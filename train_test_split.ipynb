{
 "cells": [
  {
   "cell_type": "code",
   "execution_count": 1,
   "metadata": {},
   "outputs": [],
   "source": [
    "from glob import glob\n",
    "# all_images = glob('/home/shataxi.dubey/shataxi_work/vlm_on_planet/data/processed_data/lucknow_airshed/images/*')\n",
    "# all_labels = glob('/home/shataxi.dubey/shataxi_work/vlm_on_planet/data/processed_data/lucknow_airshed/labels/*')\n",
    "\n",
    "all_images = glob('/home/shataxi.dubey/shataxi_work/vlm_on_planet/gms/lucknow_small_600_sq_km/320px_patches/*')\n",
    "all_labels = glob('/home/shataxi.dubey/shataxi_work/vlm_on_planet/gms/lucknow_small_600_sq_km/labels/*')\n",
    "\n",
    "# all_labels = glob('/home/shataxi.dubey/shataxi_work/vlm_on_planet/gms/west_bengal_small_639_sq_km/labels/*')\n",
    "# all_images = glob('/home/shataxi.dubey/shataxi_work/vlm_on_planet/gms/west_bengal_small_639_sq_km/320px_patches/*')"
   ]
  },
  {
   "cell_type": "code",
   "execution_count": 2,
   "metadata": {},
   "outputs": [
    {
     "data": {
      "text/plain": [
       "123"
      ]
     },
     "execution_count": 2,
     "metadata": {},
     "output_type": "execute_result"
    }
   ],
   "source": [
    "len(all_labels)"
   ]
  },
  {
   "cell_type": "code",
   "execution_count": 3,
   "metadata": {},
   "outputs": [
    {
     "data": {
      "text/plain": [
       "(3600, 123)"
      ]
     },
     "execution_count": 3,
     "metadata": {},
     "output_type": "execute_result"
    }
   ],
   "source": [
    "len(all_images), len(all_labels)"
   ]
  },
  {
   "cell_type": "code",
   "execution_count": 31,
   "metadata": {},
   "outputs": [
    {
     "data": {
      "text/plain": [
       "(2865, 135)"
      ]
     },
     "execution_count": 31,
     "metadata": {},
     "output_type": "execute_result"
    }
   ],
   "source": [
    "import os\n",
    "non_bg_images = [os.path.basename(all_label)[:-4]+'.png' for all_label in all_labels]\n",
    "bg_images = [os.path.basename(image) for image in all_images if os.path.basename(image) not in non_bg_images]\n",
    "len(bg_images), len(non_bg_images)"
   ]
  },
  {
   "cell_type": "code",
   "execution_count": 32,
   "metadata": {},
   "outputs": [
    {
     "data": {
      "text/plain": [
       "['9788414.1711_2548827.9405.png', '9793917.6372_2523145.0990.png']"
      ]
     },
     "execution_count": 32,
     "metadata": {},
     "output_type": "execute_result"
    }
   ],
   "source": [
    "non_bg_images[:2]"
   ]
  },
  {
   "cell_type": "markdown",
   "metadata": {},
   "source": [
    "#### 80-20 split , train - test"
   ]
  },
  {
   "cell_type": "code",
   "execution_count": 33,
   "metadata": {},
   "outputs": [],
   "source": [
    "train_ratio = 0.8\n",
    "num_train_bg_images = int(train_ratio * len(bg_images))\n",
    "num_test_bg_images = len(bg_images) - num_train_bg_images\n",
    "# num_train_non_bg_images = int(train_ratio * len(non_bg_images))\n",
    "# num_test_non_bg_images = len(non_bg_images) - num_train_non_bg_images"
   ]
  },
  {
   "cell_type": "code",
   "execution_count": 6,
   "metadata": {},
   "outputs": [
    {
     "data": {
      "text/plain": [
       "(297, 2294, 75, 574)"
      ]
     },
     "execution_count": 6,
     "metadata": {},
     "output_type": "execute_result"
    }
   ],
   "source": [
    "num_train_non_bg_images, num_train_bg_images, num_test_non_bg_images, num_test_bg_images"
   ]
  },
  {
   "cell_type": "code",
   "execution_count": 35,
   "metadata": {},
   "outputs": [],
   "source": [
    "import random\n",
    "random.seed(2)"
   ]
  },
  {
   "cell_type": "code",
   "execution_count": 8,
   "metadata": {},
   "outputs": [],
   "source": [
    "random.shuffle(non_bg_images)\n",
    "train_non_bg_images = non_bg_images[:num_train_non_bg_images]\n",
    "test_non_bg_images = non_bg_images[num_train_non_bg_images:]"
   ]
  },
  {
   "cell_type": "code",
   "execution_count": 36,
   "metadata": {},
   "outputs": [],
   "source": [
    "random.shuffle(bg_images)\n",
    "# train_bg_images = bg_images[:num_train_bg_images]\n",
    "test_bg_images = bg_images[num_train_bg_images:]"
   ]
  },
  {
   "cell_type": "code",
   "execution_count": 10,
   "metadata": {},
   "outputs": [
    {
     "data": {
      "text/plain": [
       "(297, 2294, 75, 574)"
      ]
     },
     "execution_count": 10,
     "metadata": {},
     "output_type": "execute_result"
    }
   ],
   "source": [
    "len(train_non_bg_images), len(train_bg_images), len(test_non_bg_images), len(test_bg_images)"
   ]
  },
  {
   "cell_type": "markdown",
   "metadata": {},
   "source": [
    "#### Copy test images"
   ]
  },
  {
   "cell_type": "code",
   "execution_count": 38,
   "metadata": {},
   "outputs": [],
   "source": [
    "# src_path = '/home/shataxi.dubey/shataxi_work/vlm_on_planet/data/processed_data/lucknow_airshed/images'\n",
    "# test_path = './test/images'\n",
    "\n",
    "# src_path = \"/home/shataxi.dubey/shataxi_work/vlm_on_planet/gms/lucknow_small_600_sq_km/320px_patches\"\n",
    "# test_path = \"/home/shataxi.dubey/shataxi_work/vlm_on_planet/gms/lucknow_small_600_sq_km/kiln_images/test_with_background_images/images\"\n",
    "\n",
    "src_path = '/home/shataxi.dubey/shataxi_work/vlm_on_planet/gms/west_bengal_small_639_sq_km/320px_patches'\n",
    "test_path = '/home/shataxi.dubey/shataxi_work/vlm_on_planet/gms/west_bengal_small_639_sq_km/kiln_images/test_with_background_images/images'\n",
    "\n",
    "if not os.path.exists(test_path):\n",
    "    os.makedirs(test_path)\n",
    "\n",
    "# for test_non_bg_image in test_non_bg_images:\n",
    "#     destination = os.path.join(test_path, test_non_bg_image)\n",
    "#     source = os.path.join(src_path, test_non_bg_image)\n",
    "#     # print(f'Source {source}, Destination {destination}')\n",
    "#     os.symlink(src = source, dst = destination)\n",
    "\n",
    "for test_bg_image in test_bg_images:\n",
    "    destination = os.path.join(test_path, test_bg_image)\n",
    "    source = os.path.join(src_path, test_bg_image)\n",
    "    os.symlink(src = source, dst = destination)"
   ]
  },
  {
   "cell_type": "markdown",
   "metadata": {},
   "source": [
    "#### Copy test labels"
   ]
  },
  {
   "cell_type": "code",
   "execution_count": null,
   "metadata": {},
   "outputs": [],
   "source": [
    "# src_path = '/home/shataxi.dubey/shataxi_work/vlm_on_planet/data/processed_data/lucknow_airshed/labels'\n",
    "# test_path = './test/labels'\n",
    "\n",
    "# if not os.path.exists(test_path):\n",
    "#     os.makedirs(test_path)\n",
    "\n",
    "# for test_non_bg_image in test_non_bg_images:\n",
    "#     destination = os.path.join(test_path, test_non_bg_image[:-4]+'.txt')\n",
    "#     source = os.path.join(src_path, test_non_bg_image[:-4]+'.txt')\n",
    "#     # print(f'Source {source}, Destination {destination}')\n",
    "#     os.symlink(src = source, dst = destination)"
   ]
  },
  {
   "cell_type": "markdown",
   "metadata": {},
   "source": [
    "#### Copy train images"
   ]
  },
  {
   "cell_type": "code",
   "execution_count": null,
   "metadata": {},
   "outputs": [],
   "source": [
    "# src_path = '/home/shataxi.dubey/shataxi_work/vlm_on_planet/data/processed_data/lucknow_airshed/images'\n",
    "# train_path = './train/images'\n",
    "\n",
    "src_path = \"/home/shataxi.dubey/shataxi_work/vlm_on_planet/gms/lucknow_small_600_sq_km/320px_patches\"\n",
    "train_path = \"/home/shataxi.dubey/shataxi_work/vlm_on_planet/gms/lucknow_small_600_sq_km/kiln_images/train/images\"\n",
    "\n",
    "# src_path = '/home/shataxi.dubey/shataxi_work/vlm_on_planet/gms/west_bengal_small_639_sq_km/320px_patches'\n",
    "# train_path = '/home/shataxi.dubey/shataxi_work/vlm_on_planet/gms/west_bengal_small_639_sq_km/kiln_images/train/images'\n",
    "\n",
    "if not os.path.exists(train_path):\n",
    "    os.makedirs(train_path)\n",
    "\n",
    "for train_non_bg_image in train_non_bg_images:\n",
    "    destination = os.path.join(train_path, train_non_bg_image)\n",
    "    source = os.path.join(src_path, train_non_bg_image)\n",
    "    # print(f'Source {source}, Destination {destination}')\n",
    "    os.symlink(src = source, dst = destination)\n",
    "\n",
    "# for train_bg_image in train_bg_images:\n",
    "#     destination = os.path.join(train_path, train_bg_image)\n",
    "#     source = os.path.join(src_path, train_bg_image)\n",
    "#     os.symlink(src = source, dst = destination)"
   ]
  },
  {
   "cell_type": "markdown",
   "metadata": {},
   "source": [
    "#### Copy train labels"
   ]
  },
  {
   "cell_type": "code",
   "execution_count": null,
   "metadata": {},
   "outputs": [],
   "source": [
    "# src_path = '/home/shataxi.dubey/shataxi_work/vlm_on_planet/data/processed_data/lucknow_airshed/labels'\n",
    "# train_path = './train/labels'\n",
    "\n",
    "# if not os.path.exists(train_path):\n",
    "#     os.makedirs(train_path)\n",
    "\n",
    "# for train_non_bg_image in train_non_bg_images:\n",
    "#     destination = os.path.join(train_path, train_non_bg_image[:-4]+'.txt')\n",
    "#     source = os.path.join(src_path, train_non_bg_image[:-4]+'.txt')\n",
    "#     # print(f'Source {source}, Destination {destination}')\n",
    "#     os.symlink(src = source, dst = destination)"
   ]
  },
  {
   "cell_type": "markdown",
   "metadata": {},
   "source": [
    "#### Change train labels to 0 (class 0 means brick kilns with chimney)"
   ]
  },
  {
   "cell_type": "code",
   "execution_count": 12,
   "metadata": {},
   "outputs": [],
   "source": [
    "from glob import glob\n",
    "import os\n",
    "import numpy as np\n",
    "\n",
    "# label_path = '/home/shataxi.dubey/shataxi_work/vlm_on_planet/data/processed_data/lucknow_airshed/labels'\n",
    "# train_images = glob('/home/shataxi.dubey/shataxi_work/vlm_on_planet/lucknow_train_test_split/train/images/*')\n",
    "# train_path = '/home/shataxi.dubey/shataxi_work/vlm_on_planet/lucknow_train_test_split/train/labels'\n",
    "\n",
    "# label_path = \"/home/shataxi.dubey/shataxi_work/vlm_on_planet/gms/lucknow_small_600_sq_km/labels\"\n",
    "# train_images = glob(\"/home/shataxi.dubey/shataxi_work/vlm_on_planet/gms/lucknow_small_600_sq_km/kiln_images/train/images/*\")\n",
    "# train_path = \"/home/shataxi.dubey/shataxi_work/vlm_on_planet/gms/lucknow_small_600_sq_km/kiln_images/train/labels\"\n",
    "\n",
    "label_path = \"/home/shataxi.dubey/shataxi_work/vlm_on_planet/gms/west_bengal_small_639_sq_km/labels\"\n",
    "train_images = glob(\"/home/shataxi.dubey/shataxi_work/vlm_on_planet/gms/west_bengal_small_639_sq_km/kiln_images/train/images/*\")\n",
    "train_path = \"/home/shataxi.dubey/shataxi_work/vlm_on_planet/gms/west_bengal_small_639_sq_km/kiln_images/train/labels\"\n",
    "\n",
    "if not os.path.exists(train_path):\n",
    "    os.makedirs(train_path)\n",
    "    \n",
    "for train_image in train_images:\n",
    "    image_name = os.path.basename(train_image)\n",
    "    image_label_path = os.path.join(label_path, image_name[:-4]+'.txt')\n",
    "    if os.path.exists(image_label_path):\n",
    "        bboxes = np.loadtxt(image_label_path, ndmin = 2)\n",
    "        bboxes[:,0] = 0\n",
    "        source = os.path.join(train_path, image_name[:-4]+'.txt')\n",
    "        np.savetxt(source, bboxes, fmt = '%d %.6f %.6f %.6f %.6f %.6f %.6f %.6f %.6f')"
   ]
  },
  {
   "cell_type": "markdown",
   "metadata": {},
   "source": [
    "#### Change test labels to 0 (class 0 means brick kilns with chimney)"
   ]
  },
  {
   "cell_type": "code",
   "execution_count": 15,
   "metadata": {},
   "outputs": [],
   "source": [
    "from glob import glob\n",
    "import os\n",
    "import numpy as np\n",
    "\n",
    "# label_path = '/home/shataxi.dubey/shataxi_work/vlm_on_planet/data/processed_data/lucknow_airshed/labels'\n",
    "# test_images = glob('/home/shataxi.dubey/shataxi_work/vlm_on_planet/test/images/*')\n",
    "# test_path = '/home/shataxi.dubey/shataxi_work/vlm_on_planet/test/labels'\n",
    "\n",
    "# label_path = \"/home/shataxi.dubey/shataxi_work/vlm_on_planet/gms/lucknow_small_600_sq_km/labels\"\n",
    "# test_images = glob(\"/home/shataxi.dubey/shataxi_work/vlm_on_planet/gms/lucknow_small_600_sq_km/kiln_images/test/images/*\")\n",
    "# test_path = \"/home/shataxi.dubey/shataxi_work/vlm_on_planet/gms/lucknow_small_600_sq_km/kiln_images/test/labels\"\n",
    "\n",
    "label_path = \"/home/shataxi.dubey/shataxi_work/vlm_on_planet/gms/west_bengal_small_639_sq_km/labels\"\n",
    "test_images = glob(\"/home/shataxi.dubey/shataxi_work/vlm_on_planet/gms/west_bengal_small_639_sq_km/kiln_images/valid/images/*\")\n",
    "test_path = \"/home/shataxi.dubey/shataxi_work/vlm_on_planet/gms/west_bengal_small_639_sq_km/kiln_images/valid/labels\"\n",
    "\n",
    "if not os.path.exists(test_path):\n",
    "    os.makedirs(test_path)\n",
    "\n",
    "for test_image in test_images:\n",
    "    image_name = os.path.basename(test_image)\n",
    "    image_label_path = os.path.join(label_path, image_name[:-4]+'.txt')\n",
    "    if os.path.exists(image_label_path):\n",
    "        bboxes = np.loadtxt(image_label_path, ndmin = 2)\n",
    "        bboxes[:,0] = 0\n",
    "        source = os.path.join(test_path, image_name[:-4]+'.txt')\n",
    "        np.savetxt(source, bboxes, fmt = '%d %.6f %.6f %.6f %.6f %.6f %.6f %.6f %.6f')"
   ]
  },
  {
   "cell_type": "markdown",
   "metadata": {},
   "source": [
    "#### coco format directory organisation"
   ]
  },
  {
   "cell_type": "code",
   "execution_count": null,
   "metadata": {},
   "outputs": [],
   "source": [
    "from glob import glob\n",
    "import os\n",
    "\n",
    "# train_files = glob('/home/shataxi.dubey/shataxi_work/vlm_on_planet/lucknow_train_test_split/test/images/*')\n",
    "# dst_dir = '/home/shataxi.dubey/shataxi_work/vlm_on_planet/Florence-2/lucknow_coco_train_test/valid'\n",
    "\n",
    "train_files = glob('/home/shataxi.dubey/shataxi_work/vlm_on_planet/gms/lucknow_small_600_sq_km/kiln_images/test/labels/*')\n",
    "dst_dir = '/home/shataxi.dubey/shataxi_work/vlm_on_planet/gms/lucknow_small_600_sq_km/kiln_images/valid/labels'\n",
    "\n",
    "for train_file in train_files:\n",
    "    filename = os.path.basename(train_file)\n",
    "    dst = os.path.join(dst_dir, filename)\n",
    "    os.symlink(train_file, dst)"
   ]
  }
 ],
 "metadata": {
  "kernelspec": {
   "display_name": "shataxi_space",
   "language": "python",
   "name": "python3"
  },
  "language_info": {
   "codemirror_mode": {
    "name": "ipython",
    "version": 3
   },
   "file_extension": ".py",
   "mimetype": "text/x-python",
   "name": "python",
   "nbconvert_exporter": "python",
   "pygments_lexer": "ipython3",
   "version": "3.11.5"
  }
 },
 "nbformat": 4,
 "nbformat_minor": 2
}
