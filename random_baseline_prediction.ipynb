{
 "cells": [
  {
   "cell_type": "code",
   "execution_count": 1,
   "metadata": {},
   "outputs": [],
   "source": [
    "import numpy as np\n",
    "import matplotlib.pyplot as plt\n",
    "from glob import glob\n",
    "import pandas as pd\n",
    "from garuda.od import ConfusionMatrix\n",
    "from PIL import Image"
   ]
  },
  {
   "cell_type": "markdown",
   "metadata": {},
   "source": [
    "how many random predictions -- should it be same as no of predictions per patch\n",
    "\n",
    "should random predictions have mean and std dev same as original predictions\n",
    "\n",
    "\n",
    "save the original predictions and then use it for getting mean and std dev"
   ]
  },
  {
   "cell_type": "code",
   "execution_count": 2,
   "metadata": {},
   "outputs": [
    {
     "data": {
      "text/html": [
       "\n",
       "            <style>\n",
       "                .geemap-dark {\n",
       "                    --jp-widgets-color: white;\n",
       "                    --jp-widgets-label-color: white;\n",
       "                    --jp-ui-font-color1: white;\n",
       "                    --jp-layout-color2: #454545;\n",
       "                    background-color: #383838;\n",
       "                }\n",
       "\n",
       "                .geemap-dark .jupyter-button {\n",
       "                    --jp-layout-color3: #383838;\n",
       "                }\n",
       "\n",
       "                .geemap-colab {\n",
       "                    background-color: var(--colab-primary-surface-color, white);\n",
       "                }\n",
       "\n",
       "                .geemap-colab .jupyter-button {\n",
       "                    --jp-layout-color3: var(--colab-primary-surface-color, white);\n",
       "                }\n",
       "            </style>\n",
       "            "
      ],
      "text/plain": [
       "<IPython.core.display.HTML object>"
      ]
     },
     "metadata": {},
     "output_type": "display_data"
    }
   ],
   "source": [
    "def add_class_confidence(predicted_results):\n",
    "    new_predicted_results = []\n",
    "    for res in predicted_results:\n",
    "        if len(res):\n",
    "            res = np.hstack([np.zeros((len(res),1)), res, np.ones((len(res),1))], dtype=np.float32) # add class label 0 at index 0 and confidence score 1 at last index\n",
    "            new_predicted_results.append(res)\n",
    "        else:\n",
    "            res = np.zeros((1, 10))\n",
    "            res[:, 0] = 1\n",
    "            res[:, -1] = 1\n",
    "            new_predicted_results.append(res.astype(np.float32))\n",
    "    return new_predicted_results"
   ]
  },
  {
   "cell_type": "code",
   "execution_count": 3,
   "metadata": {},
   "outputs": [
    {
     "data": {
      "text/html": [
       "\n",
       "            <style>\n",
       "                .geemap-dark {\n",
       "                    --jp-widgets-color: white;\n",
       "                    --jp-widgets-label-color: white;\n",
       "                    --jp-ui-font-color1: white;\n",
       "                    --jp-layout-color2: #454545;\n",
       "                    background-color: #383838;\n",
       "                }\n",
       "\n",
       "                .geemap-dark .jupyter-button {\n",
       "                    --jp-layout-color3: #383838;\n",
       "                }\n",
       "\n",
       "                .geemap-colab {\n",
       "                    background-color: var(--colab-primary-surface-color, white);\n",
       "                }\n",
       "\n",
       "                .geemap-colab .jupyter-button {\n",
       "                    --jp-layout-color3: var(--colab-primary-surface-color, white);\n",
       "                }\n",
       "            </style>\n",
       "            "
      ],
      "text/plain": [
       "<IPython.core.display.HTML object>"
      ]
     },
     "metadata": {},
     "output_type": "display_data"
    }
   ],
   "source": [
    "def modify_class(target_results):\n",
    "    new_target_results = []\n",
    "    for res in target_results:\n",
    "        res[:,0] = 0 # convert class labels to 0\n",
    "        res = res.astype(np.float32)\n",
    "        new_target_results.append(res)\n",
    "    return new_target_results"
   ]
  },
  {
   "cell_type": "code",
   "execution_count": 16,
   "metadata": {},
   "outputs": [
    {
     "data": {
      "text/html": [
       "\n",
       "            <style>\n",
       "                .geemap-dark {\n",
       "                    --jp-widgets-color: white;\n",
       "                    --jp-widgets-label-color: white;\n",
       "                    --jp-ui-font-color1: white;\n",
       "                    --jp-layout-color2: #454545;\n",
       "                    background-color: #383838;\n",
       "                }\n",
       "\n",
       "                .geemap-dark .jupyter-button {\n",
       "                    --jp-layout-color3: #383838;\n",
       "                }\n",
       "\n",
       "                .geemap-colab {\n",
       "                    background-color: var(--colab-primary-surface-color, white);\n",
       "                }\n",
       "\n",
       "                .geemap-colab .jupyter-button {\n",
       "                    --jp-layout-color3: var(--colab-primary-surface-color, white);\n",
       "                }\n",
       "            </style>\n",
       "            "
      ],
      "text/plain": [
       "<IPython.core.display.HTML object>"
      ]
     },
     "metadata": {},
     "output_type": "display_data"
    }
   ],
   "source": [
    "def calculate_confusion_matrix(new_predicted_results, new_target_results, iou_threshold = 0.1):\n",
    "    cm_predicted_results = []\n",
    "    for res in new_predicted_results:\n",
    "        res[:,1:9] = res[:,1:9]*500\n",
    "        cm_predicted_results.append(res)\n",
    "\n",
    "\n",
    "    cm_target_results = []\n",
    "    for res in new_target_results:\n",
    "        res[:,0] = 0 # convert class labels to 0\n",
    "        res[:,1:9] = res[:,1:9]*500\n",
    "        res = res.astype(np.float32)\n",
    "        cm_target_results.append(res)\n",
    "\n",
    "    classes, conf_threshold, iou_threshold = ['brick_kilns'], 0.25, iou_threshold\n",
    "    cm = ConfusionMatrix.from_obb_tensors(cm_predicted_results, cm_target_results, classes, conf_threshold, iou_threshold)\n",
    "    # cm = MyConfusionMatrix.from_tensors(cm_predicted_results, cm_target_results, classes, conf_threshold, iou_threshold)\n",
    "    df = pd.DataFrame(cm.matrix, columns = ['predicted kilns','predicted_bg'], index=['true kilns','true_bg'])\n",
    "    print(f'conf_threshold = {conf_threshold}, iou_threshold = {iou_threshold}')\n",
    "    # print(cm.summary)\n",
    "    # print(df.to_markdown())\n",
    "    return cm, df"
   ]
  },
  {
   "cell_type": "code",
   "execution_count": 20,
   "metadata": {},
   "outputs": [
    {
     "data": {
      "text/html": [
       "\n",
       "            <style>\n",
       "                .geemap-dark {\n",
       "                    --jp-widgets-color: white;\n",
       "                    --jp-widgets-label-color: white;\n",
       "                    --jp-ui-font-color1: white;\n",
       "                    --jp-layout-color2: #454545;\n",
       "                    background-color: #383838;\n",
       "                }\n",
       "\n",
       "                .geemap-dark .jupyter-button {\n",
       "                    --jp-layout-color3: #383838;\n",
       "                }\n",
       "\n",
       "                .geemap-colab {\n",
       "                    background-color: var(--colab-primary-surface-color, white);\n",
       "                }\n",
       "\n",
       "                .geemap-colab .jupyter-button {\n",
       "                    --jp-layout-color3: var(--colab-primary-surface-color, white);\n",
       "                }\n",
       "            </style>\n",
       "            "
      ],
      "text/plain": [
       "<IPython.core.display.HTML object>"
      ]
     },
     "metadata": {},
     "output_type": "display_data"
    }
   ],
   "source": [
    "def calculate_precision_recall(confusion_matrix, new_predicted_results, new_target_results):\n",
    "    tp = confusion_matrix.loc['true kilns']['predicted kilns']\n",
    "    predicted_positives = 0\n",
    "    for res in new_predicted_results:\n",
    "        predicted_positives += np.where(res[:,0] == 1, 0, 1).sum() # class = 1 means background class\n",
    "    \n",
    "    ground_truth = 0\n",
    "    for res in new_target_results:\n",
    "        ground_truth += np.where(res[:,0] == 0, 1, 0).sum() # class = 0 means brick kiln class\n",
    "\n",
    "    precision = tp / (predicted_positives + 1e-9)\n",
    "    recall = tp/ground_truth\n",
    "    f1_score = 2 * (precision * recall) / (precision + recall + 1e-9)\n",
    "\n",
    "    return precision, recall, f1_score"
   ]
  },
  {
   "cell_type": "code",
   "execution_count": 6,
   "metadata": {},
   "outputs": [
    {
     "data": {
      "text/html": [
       "\n",
       "            <style>\n",
       "                .geemap-dark {\n",
       "                    --jp-widgets-color: white;\n",
       "                    --jp-widgets-label-color: white;\n",
       "                    --jp-ui-font-color1: white;\n",
       "                    --jp-layout-color2: #454545;\n",
       "                    background-color: #383838;\n",
       "                }\n",
       "\n",
       "                .geemap-dark .jupyter-button {\n",
       "                    --jp-layout-color3: #383838;\n",
       "                }\n",
       "\n",
       "                .geemap-colab {\n",
       "                    background-color: var(--colab-primary-surface-color, white);\n",
       "                }\n",
       "\n",
       "                .geemap-colab .jupyter-button {\n",
       "                    --jp-layout-color3: var(--colab-primary-surface-color, white);\n",
       "                }\n",
       "            </style>\n",
       "            "
      ],
      "text/plain": [
       "<IPython.core.display.HTML object>"
      ]
     },
     "metadata": {},
     "output_type": "display_data"
    }
   ],
   "source": [
    "def plot_results(user_message, gr_imgs_path, new_predicted_results, new_target_results, image_path_with_detected_objects, region, plot=False):\n",
    "    if not plot:\n",
    "        return\n",
    "    # n = len(image_path_with_detected_objects)\n",
    "    gr_img_path = sorted(glob(gr_imgs_path+'/*'))\n",
    "    n = len(gr_img_path)\n",
    "    fig, ax = plt.subplots(nrows = n, ncols = 1 ,figsize=(120, 120))\n",
    "    ax = ax.flatten()\n",
    "    for i in range(n):\n",
    "        # img = Image.open(image_path_with_detected_objects[i]).convert('RGB') # predicted image\n",
    "        img = Image.open(gr_img_path[i]).convert('RGB') # planet image\n",
    "        w, h = img.size\n",
    "        # print(w, h)\n",
    "        ax[i].imshow(img) \n",
    "        for bbox in new_target_results[i]:\n",
    "            classvalue, x1, y1, x2, y2, x3, y3, x4, y4 = bbox*w \n",
    "            ax[i].plot([x1, x2, x3, x4, x1], [y1, y2, y3, y4, y1], color = 'green')\n",
    "        for bbox in new_predicted_results[i]:\n",
    "            classvalue, x1, y1, x2, y2, x3, y3, x4, y4, conf = bbox*w \n",
    "            ax[i].plot([x1, x2, x3, x4, x1], [y1, y2, y3, y4, y1], color = 'red')\n",
    "        ax[i].set_axis_off()\n",
    "\n",
    "    fig.suptitle(f'{user_message}')\n",
    "    # region = region.replace('/','_')\n",
    "    # plt.savefig(f'geochat_output_refer_{region}.png')\n",
    "    # plt.close() # will not display the plot"
   ]
  },
  {
   "cell_type": "markdown",
   "metadata": {},
   "source": [
    "prompt1 = '[refer] Where is the brick kiln with chimney in the image? Give its bounding box'\n",
    "\n",
    "prompt2 = '[refer]_Where_are_the_factories_in_the_image_Give_its_oriented_bounding_box'"
   ]
  },
  {
   "cell_type": "code",
   "execution_count": 14,
   "metadata": {},
   "outputs": [
    {
     "data": {
      "text/html": [
       "\n",
       "            <style>\n",
       "                .geemap-dark {\n",
       "                    --jp-widgets-color: white;\n",
       "                    --jp-widgets-label-color: white;\n",
       "                    --jp-ui-font-color1: white;\n",
       "                    --jp-layout-color2: #454545;\n",
       "                    background-color: #383838;\n",
       "                }\n",
       "\n",
       "                .geemap-dark .jupyter-button {\n",
       "                    --jp-layout-color3: #383838;\n",
       "                }\n",
       "\n",
       "                .geemap-colab {\n",
       "                    background-color: var(--colab-primary-surface-color, white);\n",
       "                }\n",
       "\n",
       "                .geemap-colab .jupyter-button {\n",
       "                    --jp-layout-color3: var(--colab-primary-surface-color, white);\n",
       "                }\n",
       "            </style>\n",
       "            "
      ],
      "text/plain": [
       "<IPython.core.display.HTML object>"
      ]
     },
     "metadata": {},
     "output_type": "display_data"
    }
   ],
   "source": [
    "gr_imgs_paths = [\n",
    "                '/home/rishabh.mondal/Brick-Kilns-project/ijcai_2025_kilns/data/vlm_data/lucknow_airshed_most_15/images',\n",
    "                '/home/rishabh.mondal/Brick-Kilns-project/ijcai_2025_kilns/data/swinir_data/lucknow_airshed_most_15/images',\n",
    "                '/home/shataxi.dubey/shataxi_work/vlm_on_planet/lucknow_high_resolution_zoom17',\n",
    "                '/home/rishabh.mondal/Brick-Kilns-project/ijcai_2025_kilns/data/vlm_data/uttar_pradesh_most_15/images',\n",
    "                '/home/rishabh.mondal/Brick-Kilns-project/ijcai_2025_kilns/data/vlm_data/uttar_pradesh_most_15/swinir_images',\n",
    "                '/home/shataxi.dubey/shataxi_work/vlm_on_planet/uttar_pradesh_high_resolution_zoom17',\n",
    "                '/home/rishabh.mondal/Brick-Kilns-project/ijcai_2025_kilns/data/vlm_data/west_bengal_most_15/images',\n",
    "                '/home/rishabh.mondal/Brick-Kilns-project/ijcai_2025_kilns/data/vlm_data/west_bengal_most_15/swinir_images',\n",
    "                '/home/shataxi.dubey/shataxi_work/vlm_on_planet/west_bengal_high_resolution_zoom17'\n",
    "                ]\n",
    "\n",
    "prompts = [\n",
    "           'prompt1', \n",
    "           'prompt2'\n",
    "           ]\n",
    "\n",
    "gr_imgs_pred_labels_paths = [\n",
    "                            '/home/shataxi.dubey/shataxi_work/vlm_on_planet/lucknow_airshed_most_15_planet',\n",
    "                            '/home/shataxi.dubey/shataxi_work/vlm_on_planet/lucknow_airshed_most_15_swinir',\n",
    "                            '/home/shataxi.dubey/shataxi_work/vlm_on_planet/lucknow_airshed_most_15_zoom17',\n",
    "                            '/home/shataxi.dubey/shataxi_work/vlm_on_planet/uttar_pradesh_most_15_planet',\n",
    "                            '/home/shataxi.dubey/shataxi_work/vlm_on_planet/uttar_pradesh_most_15_swinir',\n",
    "                            '/home/shataxi.dubey/shataxi_work/vlm_on_planet/uttar_pradesh_most_15_zoom17',\n",
    "                            '/home/shataxi.dubey/shataxi_work/vlm_on_planet/west_bengal_most_15_planet',\n",
    "                            '/home/shataxi.dubey/shataxi_work/vlm_on_planet/west_bengal_most_15_swinir',\n",
    "                            '/home/shataxi.dubey/shataxi_work/vlm_on_planet/west_bengal_most_15_zoom17',\n",
    "                            ] \n",
    "locations = [\n",
    "            'lucknow_airshed_most_15',\n",
    "            'lucknow_airshed_most_15', \n",
    "            'lucknow_airshed_most_15', \n",
    "            'uttar_pradesh_most_15',\n",
    "            'uttar_pradesh_most_15',\n",
    "            'uttar_pradesh_most_15', \n",
    "            'west_bengal_most_15',\n",
    "            'west_bengal_most_15', \n",
    "            'west_bengal_most_15', \n",
    "            ]\n",
    "\n"
   ]
  },
  {
   "cell_type": "code",
   "execution_count": 15,
   "metadata": {},
   "outputs": [
    {
     "data": {
      "text/html": [
       "\n",
       "            <style>\n",
       "                .geemap-dark {\n",
       "                    --jp-widgets-color: white;\n",
       "                    --jp-widgets-label-color: white;\n",
       "                    --jp-ui-font-color1: white;\n",
       "                    --jp-layout-color2: #454545;\n",
       "                    background-color: #383838;\n",
       "                }\n",
       "\n",
       "                .geemap-dark .jupyter-button {\n",
       "                    --jp-layout-color3: #383838;\n",
       "                }\n",
       "\n",
       "                .geemap-colab {\n",
       "                    background-color: var(--colab-primary-surface-color, white);\n",
       "                }\n",
       "\n",
       "                .geemap-colab .jupyter-button {\n",
       "                    --jp-layout-color3: var(--colab-primary-surface-color, white);\n",
       "                }\n",
       "            </style>\n",
       "            "
      ],
      "text/plain": [
       "<IPython.core.display.HTML object>"
      ]
     },
     "metadata": {},
     "output_type": "display_data"
    },
    {
     "name": "stdout",
     "output_type": "stream",
     "text": [
      "Path : /home/shataxi.dubey/shataxi_work/vlm_on_planet/lucknow_airshed_most_15_planet, Prompt : prompt1\n",
      "conf_threshold = 0.25, iou_threshold = 0.1\n",
      "Precision: 0.0, Recall: 0.0, F1 Score: nan\n",
      "            predicted kilns  predicted_bg\n",
      "true kilns              0.0         155.0\n",
      "true_bg               126.0           0.0\n",
      "Path : /home/shataxi.dubey/shataxi_work/vlm_on_planet/lucknow_airshed_most_15_planet, Prompt : prompt2\n",
      "conf_threshold = 0.25, iou_threshold = 0.1\n",
      "Precision: 0.014814814814814815, Recall: 0.012903225806451613, F1 Score: 0.013793103448275864\n",
      "            predicted kilns  predicted_bg\n",
      "true kilns              2.0         153.0\n",
      "true_bg               133.0           0.0\n",
      "Path : /home/shataxi.dubey/shataxi_work/vlm_on_planet/lucknow_airshed_most_15_swinir, Prompt : prompt1\n",
      "conf_threshold = 0.25, iou_threshold = 0.1\n",
      "Precision: 0.006787330316742082, Recall: 0.07741935483870968, F1 Score: 0.012480499219968797\n",
      "            predicted kilns  predicted_bg\n",
      "true kilns             12.0         143.0\n",
      "true_bg              1756.0           0.0\n",
      "Path : /home/shataxi.dubey/shataxi_work/vlm_on_planet/lucknow_airshed_most_15_swinir, Prompt : prompt2\n",
      "conf_threshold = 0.25, iou_threshold = 0.1\n",
      "Precision: 0.011255411255411256, Recall: 0.08387096774193549, F1 Score: 0.01984732824427481\n",
      "            predicted kilns  predicted_bg\n",
      "true kilns             13.0         142.0\n",
      "true_bg              1142.0           0.0\n",
      "Path : /home/shataxi.dubey/shataxi_work/vlm_on_planet/lucknow_airshed_most_15_zoom17, Prompt : prompt1\n"
     ]
    },
    {
     "name": "stderr",
     "output_type": "stream",
     "text": [
      "RuntimeWarning: invalid value encountered in scalar divide\n"
     ]
    },
    {
     "name": "stdout",
     "output_type": "stream",
     "text": [
      "conf_threshold = 0.25, iou_threshold = 0.1\n",
      "Precision: 0.006685236768802228, Recall: 0.07741935483870968, F1 Score: 0.012307692307692306\n",
      "            predicted kilns  predicted_bg\n",
      "true kilns             12.0         143.0\n",
      "true_bg              1783.0           0.0\n",
      "Path : /home/shataxi.dubey/shataxi_work/vlm_on_planet/lucknow_airshed_most_15_zoom17, Prompt : prompt2\n",
      "conf_threshold = 0.25, iou_threshold = 0.1\n",
      "Precision: 0.010095011876484561, Recall: 0.10967741935483871, F1 Score: 0.01848830886351278\n",
      "            predicted kilns  predicted_bg\n",
      "true kilns             17.0         138.0\n",
      "true_bg              1667.0           0.0\n",
      "Path : /home/shataxi.dubey/shataxi_work/vlm_on_planet/uttar_pradesh_most_15_planet, Prompt : prompt1\n",
      "conf_threshold = 0.25, iou_threshold = 0.1\n",
      "Precision: nan, Recall: 0.0, F1 Score: nan\n",
      "            predicted kilns  predicted_bg\n",
      "true kilns              0.0           0.0\n",
      "true_bg                 0.0           0.0\n",
      "Path : /home/shataxi.dubey/shataxi_work/vlm_on_planet/uttar_pradesh_most_15_planet, Prompt : prompt2\n",
      "conf_threshold = 0.25, iou_threshold = 0.1\n",
      "Precision: nan, Recall: 0.0, F1 Score: nan\n",
      "            predicted kilns  predicted_bg\n",
      "true kilns              0.0           0.0\n",
      "true_bg                 0.0           0.0\n",
      "Path : /home/shataxi.dubey/shataxi_work/vlm_on_planet/uttar_pradesh_most_15_swinir, Prompt : prompt1\n",
      "conf_threshold = 0.25, iou_threshold = 0.1\n",
      "Precision: 0.02098695405558707, Recall: 0.14015151515151514, F1 Score: 0.036507153428712386\n",
      "            predicted kilns  predicted_bg\n",
      "true kilns             37.0         227.0\n",
      "true_bg              1726.0           0.0\n",
      "Path : /home/shataxi.dubey/shataxi_work/vlm_on_planet/uttar_pradesh_most_15_swinir, Prompt : prompt2\n"
     ]
    },
    {
     "name": "stderr",
     "output_type": "stream",
     "text": [
      "RuntimeWarning: invalid value encountered in scalar divide\n",
      "RuntimeWarning: invalid value encountered in scalar divide\n"
     ]
    },
    {
     "name": "stdout",
     "output_type": "stream",
     "text": [
      "conf_threshold = 0.25, iou_threshold = 0.1\n",
      "Precision: 0.026840490797546013, Recall: 0.13257575757575757, F1 Score: 0.044642857142857144\n",
      "            predicted kilns  predicted_bg\n",
      "true kilns             35.0         229.0\n",
      "true_bg              1269.0           0.0\n",
      "Path : /home/shataxi.dubey/shataxi_work/vlm_on_planet/uttar_pradesh_most_15_zoom17, Prompt : prompt1\n",
      "conf_threshold = 0.25, iou_threshold = 0.1\n",
      "Precision: 0.010680157391793142, Recall: 0.07196969696969698, F1 Score: 0.01860009789525208\n",
      "            predicted kilns  predicted_bg\n",
      "true kilns             19.0         245.0\n",
      "true_bg              1760.0           0.0\n",
      "Path : /home/shataxi.dubey/shataxi_work/vlm_on_planet/uttar_pradesh_most_15_zoom17, Prompt : prompt2\n",
      "conf_threshold = 0.25, iou_threshold = 0.1\n",
      "Precision: 0.014863258026159334, Recall: 0.0946969696969697, F1 Score: 0.025693730729701957\n",
      "            predicted kilns  predicted_bg\n",
      "true kilns             25.0         239.0\n",
      "true_bg              1657.0           0.0\n",
      "Path : /home/shataxi.dubey/shataxi_work/vlm_on_planet/west_bengal_most_15_planet, Prompt : prompt1\n",
      "conf_threshold = 0.25, iou_threshold = 0.1\n",
      "Precision: nan, Recall: 0.0, F1 Score: nan\n",
      "            predicted kilns  predicted_bg\n",
      "true kilns              0.0           0.0\n",
      "true_bg                 0.0           0.0\n",
      "Path : /home/shataxi.dubey/shataxi_work/vlm_on_planet/west_bengal_most_15_planet, Prompt : prompt2\n",
      "conf_threshold = 0.25, iou_threshold = 0.1\n",
      "Precision: nan, Recall: 0.0, F1 Score: nan\n",
      "            predicted kilns  predicted_bg\n",
      "true kilns              0.0           0.0\n",
      "true_bg                 0.0           0.0\n",
      "Path : /home/shataxi.dubey/shataxi_work/vlm_on_planet/west_bengal_most_15_swinir, Prompt : prompt1\n"
     ]
    },
    {
     "name": "stderr",
     "output_type": "stream",
     "text": [
      "RuntimeWarning: invalid value encountered in scalar divide\n",
      "RuntimeWarning: invalid value encountered in scalar divide\n"
     ]
    },
    {
     "name": "stdout",
     "output_type": "stream",
     "text": [
      "conf_threshold = 0.25, iou_threshold = 0.1\n",
      "Precision: 0.013997760358342666, Recall: 0.12953367875647667, F1 Score: 0.025265285497726126\n",
      "            predicted kilns  predicted_bg\n",
      "true kilns             25.0         168.0\n",
      "true_bg              1761.0           0.0\n",
      "Path : /home/shataxi.dubey/shataxi_work/vlm_on_planet/west_bengal_most_15_swinir, Prompt : prompt2\n",
      "conf_threshold = 0.25, iou_threshold = 0.1\n",
      "Precision: 0.013958125623130608, Recall: 0.07253886010362694, F1 Score: 0.023411371237458196\n",
      "            predicted kilns  predicted_bg\n",
      "true kilns             14.0         179.0\n",
      "true_bg               989.0           0.0\n",
      "Path : /home/shataxi.dubey/shataxi_work/vlm_on_planet/west_bengal_most_15_zoom17, Prompt : prompt1\n",
      "conf_threshold = 0.25, iou_threshold = 0.1\n",
      "Precision: 0.007315700619020821, Recall: 0.06735751295336788, F1 Score: 0.013197969543147208\n",
      "            predicted kilns  predicted_bg\n",
      "true kilns             13.0         180.0\n",
      "true_bg              1764.0           0.0\n",
      "Path : /home/shataxi.dubey/shataxi_work/vlm_on_planet/west_bengal_most_15_zoom17, Prompt : prompt2\n",
      "conf_threshold = 0.25, iou_threshold = 0.1\n",
      "Precision: 0.008982035928143712, Recall: 0.07772020725388601, F1 Score: 0.01610305958132045\n",
      "            predicted kilns  predicted_bg\n",
      "true kilns             15.0         178.0\n",
      "true_bg              1655.0           0.0\n"
     ]
    }
   ],
   "source": [
    "for gr_imgs_path, gr_imgs_pred_labels_path, location in zip(gr_imgs_paths, gr_imgs_pred_labels_paths, locations):\n",
    "    np.random.seed(5)\n",
    "    \n",
    "    for prompt in prompts:\n",
    "        print(f'Path : {gr_imgs_pred_labels_path}, Prompt : {prompt}')\n",
    "        path = f'{gr_imgs_pred_labels_path}/{prompt}/*'\n",
    "        labels = sorted(glob(path))\n",
    "        random_boxes = []\n",
    "        for label in labels:\n",
    "            boxes = np.loadtxt(label, ndmin = 2)\n",
    "            w = boxes[:,[0]] - boxes[:,[2]]\n",
    "            wmean, wstd = w.mean(), w.std()\n",
    "            h = boxes[:,[5]] - boxes[:,[1]]\n",
    "            hmean, hstd = h.mean(), h.std()\n",
    "            \n",
    "            tmp = []\n",
    "            for _ in range(len(boxes)):\n",
    "                width = abs(np.random.normal(wmean, wstd, 1)[0])\n",
    "                height = abs(np.random.normal(hmean, hstd, 1)[0])\n",
    "                x1, y1 = np.random.rand(2)\n",
    "                # print(x1, y1)\n",
    "                x2 = x1 + width if x1 + width < 1 else 1\n",
    "                y2 = y1\n",
    "                x3 = x2 \n",
    "                y3 = y1 + height if y1 + height < 1 else 1\n",
    "                x4, y4 = x1, y3\n",
    "                # print(x1, y1, x2, y2, x3, y3, x4, y4)\n",
    "                tmp.append(np.array([x1, y1, x2, y2, x3, y3, x4, y4]))\n",
    "            random_boxes.append(np.array(tmp))\n",
    "        # print(random_boxes)\n",
    "\n",
    "\n",
    "        labels = sorted(glob(f'/home/rishabh.mondal/Brick-Kilns-project/ijcai_2025_kilns/data/vlm_data/{location}/labels/*'))\n",
    "\n",
    "        actual_boxes = []\n",
    "        for label in labels:\n",
    "            boxes = np.loadtxt(label, ndmin = 2)\n",
    "            actual_boxes.append(boxes)\n",
    "\n",
    "        new_predicted_results = add_class_confidence(random_boxes)\n",
    "        new_target_results = modify_class(actual_boxes)\n",
    "        plot_results('user_message', gr_imgs_path, new_predicted_results, new_target_results, None, 'region', False)\n",
    "        cm, df = calculate_confusion_matrix(new_predicted_results, new_target_results)\n",
    "        # # print(f'Precision: {cm.precision}, Recall: {cm.recall}, F1 Score: {cm.f1_score}')\n",
    "        precision, recall, f1_score = calculate_precision_recall(df, new_predicted_results, new_target_results)\n",
    "        print(f'Precision: {precision}, Recall: {recall}, F1 Score: {f1_score}')\n",
    "        print(df)"
   ]
  },
  {
   "cell_type": "markdown",
   "metadata": {},
   "source": [
    "# Calculate precision, recall at different IoU thresholds"
   ]
  },
  {
   "cell_type": "code",
   "execution_count": 21,
   "metadata": {},
   "outputs": [
    {
     "data": {
      "text/html": [
       "\n",
       "            <style>\n",
       "                .geemap-dark {\n",
       "                    --jp-widgets-color: white;\n",
       "                    --jp-widgets-label-color: white;\n",
       "                    --jp-ui-font-color1: white;\n",
       "                    --jp-layout-color2: #454545;\n",
       "                    background-color: #383838;\n",
       "                }\n",
       "\n",
       "                .geemap-dark .jupyter-button {\n",
       "                    --jp-layout-color3: #383838;\n",
       "                }\n",
       "\n",
       "                .geemap-colab {\n",
       "                    background-color: var(--colab-primary-surface-color, white);\n",
       "                }\n",
       "\n",
       "                .geemap-colab .jupyter-button {\n",
       "                    --jp-layout-color3: var(--colab-primary-surface-color, white);\n",
       "                }\n",
       "            </style>\n",
       "            "
      ],
      "text/plain": [
       "<IPython.core.display.HTML object>"
      ]
     },
     "metadata": {},
     "output_type": "display_data"
    },
    {
     "name": "stdout",
     "output_type": "stream",
     "text": [
      "Path : /home/shataxi.dubey/shataxi_work/vlm_on_planet/lucknow_airshed_most_15_planet, Prompt : prompt1, IoU threshold : 0.5\n",
      "conf_threshold = 0.25, iou_threshold = 0.5\n",
      "Precision: 0.03174603174577979, Recall: 0.025806451612903226, F1 Score: 0.028469750394903827\n",
      "            predicted kilns  predicted_bg\n",
      "true kilns              4.0         151.0\n",
      "true_bg               122.0           0.0\n",
      "Path : /home/shataxi.dubey/shataxi_work/vlm_on_planet/lucknow_airshed_most_15_planet, Prompt : prompt2, IoU threshold : 0.5\n",
      "conf_threshold = 0.25, iou_threshold = 0.5\n",
      "Precision: 0.04444444444411523, Recall: 0.03870967741935484, F1 Score: 0.04137930984706303\n",
      "            predicted kilns  predicted_bg\n",
      "true kilns              6.0         149.0\n",
      "true_bg               129.0           0.0\n",
      "Path : /home/shataxi.dubey/shataxi_work/vlm_on_planet/lucknow_airshed_most_15_swinir, Prompt : prompt1, IoU threshold : 0.5\n",
      "conf_threshold = 0.25, iou_threshold = 0.5\n",
      "Precision: 0.01074660633483555, Recall: 0.12258064516129032, F1 Score: 0.0197607902833943\n",
      "            predicted kilns  predicted_bg\n",
      "true kilns             19.0         136.0\n",
      "true_bg              1749.0           0.0\n",
      "Path : /home/shataxi.dubey/shataxi_work/vlm_on_planet/lucknow_airshed_most_15_swinir, Prompt : prompt2, IoU threshold : 0.5\n",
      "conf_threshold = 0.25, iou_threshold = 0.5\n",
      "Precision: 0.01125541125540151, Recall: 0.08387096774193549, F1 Score: 0.01984732803561797\n",
      "            predicted kilns  predicted_bg\n",
      "true kilns             13.0         142.0\n",
      "true_bg              1142.0           0.0\n",
      "Path : /home/shataxi.dubey/shataxi_work/vlm_on_planet/lucknow_airshed_most_15_zoom17, Prompt : prompt1, IoU threshold : 0.5\n",
      "conf_threshold = 0.25, iou_threshold = 0.5\n",
      "Precision: 0.000557103064066542, Recall: 0.0064516129032258064, F1 Score: 0.001025640879302585\n",
      "            predicted kilns  predicted_bg\n",
      "true kilns              1.0         154.0\n",
      "true_bg              1794.0           0.0\n",
      "Path : /home/shataxi.dubey/shataxi_work/vlm_on_planet/lucknow_airshed_most_15_zoom17, Prompt : prompt2, IoU threshold : 0.5\n",
      "conf_threshold = 0.25, iou_threshold = 0.5\n",
      "Precision: 0.016033254156760074, Recall: 0.17419354838709677, F1 Score: 0.029363784511201176\n",
      "            predicted kilns  predicted_bg\n",
      "true kilns             27.0         128.0\n",
      "true_bg              1657.0           0.0\n",
      "Path : /home/shataxi.dubey/shataxi_work/vlm_on_planet/uttar_pradesh_most_15_planet, Prompt : prompt1, IoU threshold : 0.5\n",
      "conf_threshold = 0.25, iou_threshold = 0.5\n",
      "Precision: 0.0, Recall: 0.0, F1 Score: 0.0\n",
      "            predicted kilns  predicted_bg\n",
      "true kilns              0.0           0.0\n",
      "true_bg                 0.0           0.0\n",
      "Path : /home/shataxi.dubey/shataxi_work/vlm_on_planet/uttar_pradesh_most_15_planet, Prompt : prompt2, IoU threshold : 0.5\n",
      "conf_threshold = 0.25, iou_threshold = 0.5\n",
      "Precision: 0.0, Recall: 0.0, F1 Score: 0.0\n",
      "            predicted kilns  predicted_bg\n",
      "true kilns              0.0           0.0\n",
      "true_bg                 0.0           0.0\n",
      "Path : /home/shataxi.dubey/shataxi_work/vlm_on_planet/uttar_pradesh_most_15_swinir, Prompt : prompt1, IoU threshold : 0.5\n",
      "conf_threshold = 0.25, iou_threshold = 0.5\n",
      "Precision: 0.01418037436187511, Recall: 0.0946969696969697, F1 Score: 0.024666995333370977\n",
      "            predicted kilns  predicted_bg\n",
      "true kilns             25.0         239.0\n",
      "true_bg              1738.0           0.0\n",
      "Path : /home/shataxi.dubey/shataxi_work/vlm_on_planet/uttar_pradesh_most_15_swinir, Prompt : prompt2, IoU threshold : 0.5\n",
      "conf_threshold = 0.25, iou_threshold = 0.5\n",
      "Precision: 0.026073619631881845, Recall: 0.12878787878787878, F1 Score: 0.04336734665870828\n",
      "            predicted kilns  predicted_bg\n",
      "true kilns             34.0         230.0\n",
      "true_bg              1270.0           0.0\n",
      "Path : /home/shataxi.dubey/shataxi_work/vlm_on_planet/uttar_pradesh_most_15_zoom17, Prompt : prompt1, IoU threshold : 0.5\n",
      "conf_threshold = 0.25, iou_threshold = 0.5\n",
      "Precision: 0.002810567734680826, Recall: 0.01893939393939394, F1 Score: 0.004894762378964367\n",
      "            predicted kilns  predicted_bg\n",
      "true kilns              5.0         259.0\n",
      "true_bg              1774.0           0.0\n",
      "Path : /home/shataxi.dubey/shataxi_work/vlm_on_planet/uttar_pradesh_most_15_zoom17, Prompt : prompt2, IoU threshold : 0.5\n",
      "conf_threshold = 0.25, iou_threshold = 0.5\n",
      "Precision: 0.024375743162886817, Recall: 0.1553030303030303, F1 Score: 0.0421377181621726\n",
      "            predicted kilns  predicted_bg\n",
      "true kilns             41.0         223.0\n",
      "true_bg              1641.0           0.0\n",
      "Path : /home/shataxi.dubey/shataxi_work/vlm_on_planet/west_bengal_most_15_planet, Prompt : prompt1, IoU threshold : 0.5\n",
      "conf_threshold = 0.25, iou_threshold = 0.5\n",
      "Precision: 0.0, Recall: 0.0, F1 Score: 0.0\n",
      "            predicted kilns  predicted_bg\n",
      "true kilns              0.0           0.0\n",
      "true_bg                 0.0           0.0\n",
      "Path : /home/shataxi.dubey/shataxi_work/vlm_on_planet/west_bengal_most_15_planet, Prompt : prompt2, IoU threshold : 0.5\n",
      "conf_threshold = 0.25, iou_threshold = 0.5\n",
      "Precision: 0.0, Recall: 0.0, F1 Score: 0.0\n",
      "            predicted kilns  predicted_bg\n",
      "true kilns              0.0           0.0\n",
      "true_bg                 0.0           0.0\n",
      "Path : /home/shataxi.dubey/shataxi_work/vlm_on_planet/west_bengal_most_15_swinir, Prompt : prompt1, IoU threshold : 0.5\n",
      "conf_threshold = 0.25, iou_threshold = 0.5\n",
      "Precision: 0.02295632698766912, Recall: 0.21243523316062177, F1 Score: 0.04143506804022377\n",
      "            predicted kilns  predicted_bg\n",
      "true kilns             41.0         152.0\n",
      "true_bg              1745.0           0.0\n",
      "Path : /home/shataxi.dubey/shataxi_work/vlm_on_planet/west_bengal_most_15_swinir, Prompt : prompt2, IoU threshold : 0.5\n",
      "conf_threshold = 0.25, iou_threshold = 0.5\n",
      "Precision: 0.03688933200395126, Recall: 0.19170984455958548, F1 Score: 0.06187290942828381\n",
      "            predicted kilns  predicted_bg\n",
      "true kilns             37.0         156.0\n",
      "true_bg               966.0           0.0\n",
      "Path : /home/shataxi.dubey/shataxi_work/vlm_on_planet/west_bengal_most_15_zoom17, Prompt : prompt1, IoU threshold : 0.5\n",
      "conf_threshold = 0.25, iou_threshold = 0.5\n",
      "Precision: 0.002250984805851294, Recall: 0.02072538860103627, F1 Score: 0.00406091352883868\n",
      "            predicted kilns  predicted_bg\n",
      "true kilns              4.0         189.0\n",
      "true_bg              1773.0           0.0\n",
      "Path : /home/shataxi.dubey/shataxi_work/vlm_on_planet/west_bengal_most_15_zoom17, Prompt : prompt2, IoU threshold : 0.5\n",
      "conf_threshold = 0.25, iou_threshold = 0.5\n",
      "Precision: 0.02934131736525189, Recall: 0.2538860103626943, F1 Score: 0.05260332777989026\n",
      "            predicted kilns  predicted_bg\n",
      "true kilns             49.0         144.0\n",
      "true_bg              1621.0           0.0\n"
     ]
    }
   ],
   "source": [
    "for gr_imgs_pred_labels_path, location in zip(gr_imgs_pred_labels_paths, locations):    \n",
    "    for prompt in prompts:\n",
    "        for iou_threshold in [0.5]:\n",
    "            print(f'Path : {gr_imgs_pred_labels_path}, Prompt : {prompt}, IoU threshold : {iou_threshold}')\n",
    "            path = f'{gr_imgs_pred_labels_path}/{prompt}/*'\n",
    "            labels = sorted(glob(path))\n",
    "            predicted_boxes = []\n",
    "            for label in labels:\n",
    "                boxes = np.loadtxt(label, ndmin = 2)\n",
    "                predicted_boxes.append(boxes)\n",
    "\n",
    "            labels = sorted(glob(f'/home/rishabh.mondal/Brick-Kilns-project/ijcai_2025_kilns/data/vlm_data/{location}/labels/*'))\n",
    "\n",
    "            actual_boxes = []\n",
    "            for label in labels:\n",
    "                boxes = np.loadtxt(label, ndmin = 2)\n",
    "                actual_boxes.append(boxes)\n",
    "\n",
    "            new_predicted_results = add_class_confidence(predicted_boxes)\n",
    "            new_target_results = modify_class(actual_boxes)\n",
    "            plot_results('user_message', gr_imgs_path, new_predicted_results, new_target_results, None, 'region', False)\n",
    "            cm, df = calculate_confusion_matrix(new_predicted_results, new_target_results, iou_threshold)\n",
    "            # # print(f'Precision: {cm.precision}, Recall: {cm.recall}, F1 Score: {cm.f1_score}')\n",
    "            precision, recall, f1_score = calculate_precision_recall(df, new_predicted_results, new_target_results)\n",
    "            print(f'Precision: {precision}, Recall: {recall}, F1 Score: {f1_score}')\n",
    "            print(df)"
   ]
  },
  {
   "cell_type": "code",
   "execution_count": null,
   "metadata": {},
   "outputs": [],
   "source": []
  },
  {
   "cell_type": "code",
   "execution_count": null,
   "metadata": {},
   "outputs": [],
   "source": []
  }
 ],
 "metadata": {
  "kernelspec": {
   "display_name": "shataxi_space",
   "language": "python",
   "name": "python3"
  },
  "language_info": {
   "codemirror_mode": {
    "name": "ipython",
    "version": 3
   },
   "file_extension": ".py",
   "mimetype": "text/x-python",
   "name": "python",
   "nbconvert_exporter": "python",
   "pygments_lexer": "ipython3",
   "version": "3.11.5"
  }
 },
 "nbformat": 4,
 "nbformat_minor": 2
}
