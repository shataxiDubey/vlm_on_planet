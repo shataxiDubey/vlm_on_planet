{
 "cells": [
  {
   "cell_type": "code",
   "execution_count": 1,
   "id": "52ff030b",
   "metadata": {},
   "outputs": [],
   "source": [
    "import supervision as sv\n",
    "import numpy as np"
   ]
  },
  {
   "cell_type": "code",
   "execution_count": 2,
   "id": "05a3f7d7",
   "metadata": {},
   "outputs": [],
   "source": [
    "prediction1 = sv.Detections.empty()\n",
    "\n",
    "target1 = sv.Detections.empty()\n",
    "target1.xyxy = np.array([[10, 20, 30, 40]])\n",
    "target1.mask = None\n",
    "target1.class_id = np.array([0]) \n",
    "target1.confidence = None"
   ]
  },
  {
   "cell_type": "code",
   "execution_count": 100,
   "id": "7b3f1a35",
   "metadata": {},
   "outputs": [],
   "source": [
    "target2 = sv.Detections.empty()\n",
    "target2.xyxy = np.array([[10, 20, 30, 40]])\n",
    "target2.mask = None\n",
    "target2.class_id = np.array([0])\n",
    "target2.confidence = None\n",
    "\n",
    "prediction2 = sv.Detections.empty()\n",
    "prediction2.xyxy = np.array([[10, 20, 30, 40],[50,60,70,80], [200,220,230,240]])\n",
    "prediction2.confidence = np.array([0.9,0.7,0.6])\n",
    "prediction2.class_id = np.array([0,0,0])\n",
    "predictions_list = [prediction1, prediction1, prediction1, prediction1, prediction2]\n",
    "targets_list = [target1, target1, target1, target1, target2]\n",
    "\n",
    "predictions_list = [prediction2]\n",
    "targets_list = [target2]"
   ]
  },
  {
   "cell_type": "code",
   "execution_count": 101,
   "id": "4b35e308",
   "metadata": {},
   "outputs": [
    {
     "data": {
      "text/plain": [
       "array([[1.],\n",
       "       [0.],\n",
       "       [0.]])"
      ]
     },
     "execution_count": 101,
     "metadata": {},
     "output_type": "execute_result"
    }
   ],
   "source": [
    "from supervision.detection.utils import box_iou_batch\n",
    "iou = box_iou_batch(predictions_list[-1].xyxy, targets_list[-1].xyxy)\n",
    "iou"
   ]
  },
  {
   "cell_type": "code",
   "execution_count": 102,
   "id": "7e52751b",
   "metadata": {},
   "outputs": [],
   "source": [
    "def match_detection_batch(\n",
    "        predictions_classes: np.ndarray,\n",
    "        target_classes: np.ndarray,\n",
    "        iou: np.ndarray,\n",
    "        iou_thresholds: np.ndarray,\n",
    "    ) -> np.ndarray:\n",
    "        num_predictions, num_iou_levels = (\n",
    "            predictions_classes.shape[0],\n",
    "            iou_thresholds.shape[0],\n",
    "        )\n",
    "        print(f\"num_predictions: {num_predictions}, num_iou_levels: {num_iou_levels}\")\n",
    "        correct = np.zeros((num_predictions, num_iou_levels), dtype=bool)\n",
    "        correct_class = target_classes[:, None] == predictions_classes\n",
    "        print(f\"correct_class: {correct_class}\")\n",
    "\n",
    "        for i, iou_level in enumerate(iou_thresholds):\n",
    "            matched_indices = np.where((iou >= iou_level) & correct_class)\n",
    "            print(f'matched_indices at iou_level {iou_level}: {matched_indices}')\n",
    "            print(matched_indices[0].shape[0])\n",
    "            if matched_indices[0].shape[0]:\n",
    "                combined_indices = np.stack(matched_indices, axis=1)\n",
    "                print(f'combined_indices: {combined_indices}')\n",
    "                iou_values = iou[matched_indices][:, None]\n",
    "                print(f'iou_values: {iou_values}')\n",
    "                matches = np.hstack([combined_indices, iou_values])\n",
    "                print(f'matches: {matches}')\n",
    "                if matched_indices[0].shape[0] > 1:\n",
    "                    matches = matches[matches[:, 2].argsort()[::-1]]\n",
    "                    print(f'matches after sorting: {matches}')\n",
    "                    matches = matches[np.unique(matches[:, 1], return_index=True)[1]]\n",
    "                    print(f'matches after unique: {matches}')\n",
    "                    matches = matches[np.unique(matches[:, 0], return_index=True)[1]]\n",
    "                    print(f'matches after unique: {matches}')\n",
    "\n",
    "                correct[matches[:, 1].astype(int), i] = True\n",
    "                print(f'correct after matching: {correct}')\n",
    "\n",
    "        return correct"
   ]
  },
  {
   "cell_type": "code",
   "execution_count": 103,
   "id": "5aee5972",
   "metadata": {},
   "outputs": [
    {
     "data": {
      "text/plain": [
       "(array([0]), array([0]))"
      ]
     },
     "execution_count": 103,
     "metadata": {},
     "output_type": "execute_result"
    }
   ],
   "source": [
    "np.where(np.array([[1],[0]]) & np.array([[1],[1]]))"
   ]
  },
  {
   "cell_type": "code",
   "execution_count": 104,
   "id": "3ecfae09",
   "metadata": {},
   "outputs": [
    {
     "data": {
      "text/plain": [
       "(array([0, 0]), array([0, 1]))"
      ]
     },
     "execution_count": 104,
     "metadata": {},
     "output_type": "execute_result"
    }
   ],
   "source": [
    "np.where((np.array([[1],[0]]) >= 0.5) & np.array([[1,1]]))"
   ]
  },
  {
   "cell_type": "code",
   "execution_count": 105,
   "id": "1ff9341f",
   "metadata": {},
   "outputs": [
    {
     "name": "stdout",
     "output_type": "stream",
     "text": [
      "num_predictions: 3, num_iou_levels: 10\n",
      "correct_class: [[ True  True  True]]\n",
      "matched_indices at iou_level 0.5: (array([0, 0, 0]), array([0, 1, 2]))\n",
      "3\n",
      "combined_indices: [[0 0]\n",
      " [0 1]\n",
      " [0 2]]\n"
     ]
    },
    {
     "ename": "IndexError",
     "evalue": "index 1 is out of bounds for axis 1 with size 1",
     "output_type": "error",
     "traceback": [
      "\u001b[0;31m---------------------------------------------------------------------------\u001b[0m",
      "\u001b[0;31mIndexError\u001b[0m                                Traceback (most recent call last)",
      "Cell \u001b[0;32mIn[105], line 1\u001b[0m\n\u001b[0;32m----> 1\u001b[0m matches \u001b[38;5;241m=\u001b[39m \u001b[43mmatch_detection_batch\u001b[49m\u001b[43m(\u001b[49m\n\u001b[1;32m      2\u001b[0m \u001b[43m    \u001b[49m\u001b[43mpredictions_classes\u001b[49m\u001b[38;5;241;43m=\u001b[39;49m\u001b[43mpredictions_list\u001b[49m\u001b[43m[\u001b[49m\u001b[38;5;241;43m-\u001b[39;49m\u001b[38;5;241;43m1\u001b[39;49m\u001b[43m]\u001b[49m\u001b[38;5;241;43m.\u001b[39;49m\u001b[43mclass_id\u001b[49m\u001b[43m,\u001b[49m\n\u001b[1;32m      3\u001b[0m \u001b[43m    \u001b[49m\u001b[43mtarget_classes\u001b[49m\u001b[38;5;241;43m=\u001b[39;49m\u001b[43mtargets_list\u001b[49m\u001b[43m[\u001b[49m\u001b[38;5;241;43m-\u001b[39;49m\u001b[38;5;241;43m1\u001b[39;49m\u001b[43m]\u001b[49m\u001b[38;5;241;43m.\u001b[39;49m\u001b[43mclass_id\u001b[49m\u001b[43m,\u001b[49m\n\u001b[1;32m      4\u001b[0m \u001b[43m    \u001b[49m\u001b[43miou\u001b[49m\u001b[38;5;241;43m=\u001b[39;49m\u001b[43miou\u001b[49m\u001b[43m,\u001b[49m\n\u001b[1;32m      5\u001b[0m \u001b[43m    \u001b[49m\u001b[43miou_thresholds\u001b[49m\u001b[38;5;241;43m=\u001b[39;49m\u001b[43mnp\u001b[49m\u001b[38;5;241;43m.\u001b[39;49m\u001b[43mlinspace\u001b[49m\u001b[43m(\u001b[49m\u001b[38;5;241;43m0.5\u001b[39;49m\u001b[43m,\u001b[49m\u001b[43m \u001b[49m\u001b[38;5;241;43m0.95\u001b[39;49m\u001b[43m,\u001b[49m\u001b[43m \u001b[49m\u001b[38;5;241;43m10\u001b[39;49m\u001b[43m)\u001b[49m\u001b[43m,\u001b[49m\n\u001b[1;32m      6\u001b[0m \u001b[43m)\u001b[49m\n\u001b[1;32m      7\u001b[0m matches\n",
      "Cell \u001b[0;32mIn[102], line 23\u001b[0m, in \u001b[0;36mmatch_detection_batch\u001b[0;34m(predictions_classes, target_classes, iou, iou_thresholds)\u001b[0m\n\u001b[1;32m     21\u001b[0m combined_indices \u001b[38;5;241m=\u001b[39m np\u001b[38;5;241m.\u001b[39mstack(matched_indices, axis\u001b[38;5;241m=\u001b[39m\u001b[38;5;241m1\u001b[39m)\n\u001b[1;32m     22\u001b[0m \u001b[38;5;28mprint\u001b[39m(\u001b[38;5;124mf\u001b[39m\u001b[38;5;124m'\u001b[39m\u001b[38;5;124mcombined_indices: \u001b[39m\u001b[38;5;132;01m{\u001b[39;00mcombined_indices\u001b[38;5;132;01m}\u001b[39;00m\u001b[38;5;124m'\u001b[39m)\n\u001b[0;32m---> 23\u001b[0m iou_values \u001b[38;5;241m=\u001b[39m \u001b[43miou\u001b[49m\u001b[43m[\u001b[49m\u001b[43mmatched_indices\u001b[49m\u001b[43m]\u001b[49m[:, \u001b[38;5;28;01mNone\u001b[39;00m]\n\u001b[1;32m     24\u001b[0m \u001b[38;5;28mprint\u001b[39m(\u001b[38;5;124mf\u001b[39m\u001b[38;5;124m'\u001b[39m\u001b[38;5;124miou_values: \u001b[39m\u001b[38;5;132;01m{\u001b[39;00miou_values\u001b[38;5;132;01m}\u001b[39;00m\u001b[38;5;124m'\u001b[39m)\n\u001b[1;32m     25\u001b[0m matches \u001b[38;5;241m=\u001b[39m np\u001b[38;5;241m.\u001b[39mhstack([combined_indices, iou_values])\n",
      "\u001b[0;31mIndexError\u001b[0m: index 1 is out of bounds for axis 1 with size 1"
     ]
    }
   ],
   "source": [
    "matches = match_detection_batch(\n",
    "    predictions_classes=predictions_list[-1].class_id,\n",
    "    target_classes=targets_list[-1].class_id,\n",
    "    iou=iou,\n",
    "    iou_thresholds=np.linspace(0.5, 0.95, 10),\n",
    ")\n",
    "matches"
   ]
  },
  {
   "cell_type": "code",
   "execution_count": 106,
   "id": "b55aea23",
   "metadata": {},
   "outputs": [
    {
     "data": {
      "text/plain": [
       "0.9999999999999999"
      ]
     },
     "execution_count": 106,
     "metadata": {},
     "output_type": "execute_result"
    }
   ],
   "source": [
    "map = sv.metrics.MeanAveragePrecision()\n",
    "map = map.update(predictions_list, targets_list)\n",
    "map = map.compute()\n",
    "map.map50"
   ]
  },
  {
   "cell_type": "code",
   "execution_count": 89,
   "id": "a787405c",
   "metadata": {},
   "outputs": [
    {
     "data": {
      "text/plain": [
       "[Detections(xyxy=array([[10, 20, 30, 40],\n",
       "        [50, 60, 70, 80]]), mask=None, confidence=array([0.9, 0.7]), class_id=array([0, 0]), tracker_id=None, data={}, metadata={})]"
      ]
     },
     "execution_count": 89,
     "metadata": {},
     "output_type": "execute_result"
    }
   ],
   "source": [
    "predictions_list"
   ]
  },
  {
   "cell_type": "code",
   "execution_count": 90,
   "id": "9fd60bd7",
   "metadata": {},
   "outputs": [
    {
     "data": {
      "text/plain": [
       "[Detections(xyxy=array([[ 10,  20,  30,  40],\n",
       "        [100, 120, 130, 140]]), mask=None, confidence=None, class_id=array([0, 0]), tracker_id=None, data={}, metadata={})]"
      ]
     },
     "execution_count": 90,
     "metadata": {},
     "output_type": "execute_result"
    }
   ],
   "source": [
    "targets_list"
   ]
  },
  {
   "cell_type": "code",
   "execution_count": 45,
   "id": "7e463c68",
   "metadata": {},
   "outputs": [
    {
     "data": {
      "image/png": "[encoded data removed]",
      "text/plain": [
       "<Figure size 640x480 with 1 Axes>"
      ]
     },
     "metadata": {},
     "output_type": "display_data"
    }
   ],
   "source": [
    "import matplotlib.pyplot as plt\n",
    "fig, ax = plt.subplots()\n",
    "\n",
    "ax.plot([0,1], [0, 0.2], label = 'precision-recall curve')\n",
    "ax.plot([0,0,1,1],[0,0.2,0.2,0], color = 'orange')\n",
    "ax.set_xlabel('recall')\n",
    "ax.set_ylabel('precision')\n",
    "ax.fill([0,0,1,1],[0,0.2,0.2,0], facecolor = 'blue',alpha = 0.5)\n",
    "ax.fill([0,1,1], [0, 0.2,0], facecolor = 'pink', alpha = 0.2)\n",
    "plt.legend(loc = 'upper right')\n",
    "ax.set_title('The area bounded by orange boundary is the average precision by 101 point and the area under \\n' \\\n",
    "'the blue line coverd by purple region is the avrage precision through numerical integration ')\n",
    "ax.grid()"
   ]
  },
  {
   "cell_type": "code",
   "execution_count": 61,
   "id": "3abef14a",
   "metadata": {},
   "outputs": [
    {
     "data": {
      "text/plain": [
       "0.9999999999999999"
      ]
     },
     "execution_count": 61,
     "metadata": {},
     "output_type": "execute_result"
    }
   ],
   "source": [
    "import supervision as sv\n",
    "import numpy as np\n",
    "\n",
    "# no ground truth exists but object is detected\n",
    "target1 = sv.Detections.empty()\n",
    "\n",
    "prediction1 = sv.Detections.empty()\n",
    "prediction1.xyxy = np.array([[10, 20, 30, 40]])\n",
    "prediction1.mask = None\n",
    "prediction1.class_id = np.array([0]) \n",
    "prediction1.confidence = np.array([1])\n",
    "\n",
    "# ground truth exists and object is detected correctly\n",
    "target2 = sv.Detections.empty()\n",
    "target2.xyxy = np.array([[10, 20, 30, 40]])\n",
    "target2.mask = None\n",
    "target2.class_id = np.array([0])\n",
    "target2.confidence = None\n",
    "\n",
    "prediction2 = target2\n",
    "prediction2.confidence = np.array([1])\n",
    "\n",
    "# 4 False Positives and 1 true positive\n",
    "predictions_list = [prediction1, prediction1, prediction1, prediction1, prediction2]\n",
    "targets_list = [target1, target1, target1, target1, target2]\n",
    "\n",
    "\n",
    "map = sv.metrics.MeanAveragePrecision()\n",
    "map = map.update(predictions_list, targets_list)\n",
    "map = map.compute()\n",
    "map.map50"
   ]
  },
  {
   "cell_type": "code",
   "execution_count": 55,
   "id": "f9a2a076",
   "metadata": {},
   "outputs": [
    {
     "data": {
      "text/plain": [
       "[Detections(xyxy=array([[10, 20, 30, 40]]), mask=None, confidence=array([1]), class_id=array([0]), tracker_id=None, data={}, metadata={}),\n",
       " Detections(xyxy=array([[10, 20, 30, 40]]), mask=None, confidence=array([1]), class_id=array([0]), tracker_id=None, data={}, metadata={}),\n",
       " Detections(xyxy=array([[10, 20, 30, 40]]), mask=None, confidence=array([1]), class_id=array([0]), tracker_id=None, data={}, metadata={}),\n",
       " Detections(xyxy=array([[10, 20, 30, 40]]), mask=None, confidence=array([1]), class_id=array([0]), tracker_id=None, data={}, metadata={}),\n",
       " Detections(xyxy=array([[10, 20, 30, 40]]), mask=None, confidence=array([1]), class_id=array([0]), tracker_id=None, data={}, metadata={})]"
      ]
     },
     "execution_count": 55,
     "metadata": {},
     "output_type": "execute_result"
    }
   ],
   "source": [
    "predictions_list"
   ]
  },
  {
   "cell_type": "code",
   "execution_count": 56,
   "id": "a335be53",
   "metadata": {},
   "outputs": [
    {
     "data": {
      "text/plain": [
       "[Detections(xyxy=array([], shape=(0, 4), dtype=float32), mask=None, confidence=array([], dtype=float32), class_id=array([], dtype=int64), tracker_id=None, data={}, metadata={}),\n",
       " Detections(xyxy=array([], shape=(0, 4), dtype=float32), mask=None, confidence=array([], dtype=float32), class_id=array([], dtype=int64), tracker_id=None, data={}, metadata={}),\n",
       " Detections(xyxy=array([], shape=(0, 4), dtype=float32), mask=None, confidence=array([], dtype=float32), class_id=array([], dtype=int64), tracker_id=None, data={}, metadata={}),\n",
       " Detections(xyxy=array([], shape=(0, 4), dtype=float32), mask=None, confidence=array([], dtype=float32), class_id=array([], dtype=int64), tracker_id=None, data={}, metadata={}),\n",
       " Detections(xyxy=array([[10, 20, 30, 40]]), mask=None, confidence=array([1]), class_id=array([0]), tracker_id=None, data={}, metadata={})]"
      ]
     },
     "execution_count": 56,
     "metadata": {},
     "output_type": "execute_result"
    }
   ],
   "source": [
    "targets_list"
   ]
  },
  {
   "cell_type": "code",
   "execution_count": 7,
   "id": "5b676ac7",
   "metadata": {},
   "outputs": [
    {
     "data": {
      "text/plain": [
       "(array([[10, 20, 30, 40]]), array([], shape=(0, 4), dtype=float32))"
      ]
     },
     "execution_count": 7,
     "metadata": {},
     "output_type": "execute_result"
    }
   ],
   "source": [
    "predictions_list[0].xyxy, targets_list[0].xyxy"
   ]
  },
  {
   "cell_type": "code",
   "execution_count": 12,
   "id": "7d83b232",
   "metadata": {},
   "outputs": [],
   "source": [
    "stats = []\n",
    "\n",
    "if stats:\n",
    "    print('No')\n",
    "    concatenated_stats = [np.concatenate(items, 0) for items in zip(*stats)]\n",
    "    # average_precisions, unique_classes = self._average_precisions_per_class(\n",
    "    #     *concatenated_stats\n",
    "    # )\n",
    "    # mAP_scores = np.mean(average_precisions, axis=0)\n",
    "else:\n",
    "    mAP_scores = np.zeros((10,), dtype=np.float32)\n",
    "    # unique_classes = np.empty((0,), dtype=int)\n",
    "    # average_precisions = np.empty((0, len(iou_thresholds)), dtype=np.float32)"
   ]
  },
  {
   "cell_type": "code",
   "execution_count": 47,
   "id": "8c7fc151",
   "metadata": {},
   "outputs": [
    {
     "data": {
      "text/plain": [
       "MeanAveragePrecision(map50_95=0.5999999999999999, map50=0.6, map75=0.6, per_class_ap50_95=array([[0.6, 0.6, 0.6, 0.6, 0.6, 0.6, 0.6, 0.6, 0.6, 0.6]]))"
      ]
     },
     "execution_count": 47,
     "metadata": {},
     "output_type": "execute_result"
    }
   ],
   "source": [
    "from supervision.metrics.detection import MeanAveragePrecision as correct_map\n",
    "\n",
    "map = correct_map.from_detections(predictions_list, targets_list)\n",
    "map"
   ]
  }
 ],
 "metadata": {
  "kernelspec": {
   "display_name": "shataxi_space",
   "language": "python",
   "name": "python3"
  },
  "language_info": {
   "codemirror_mode": {
    "name": "ipython",
    "version": 3
   },
   "file_extension": ".py",
   "mimetype": "text/x-python",
   "name": "python",
   "nbconvert_exporter": "python",
   "pygments_lexer": "ipython3",
   "version": "3.11.5"
  }
 },
 "nbformat": 4,
 "nbformat_minor": 5
}
